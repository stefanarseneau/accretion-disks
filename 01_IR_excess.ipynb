{
 "cells": [
  {
   "cell_type": "markdown",
   "metadata": {},
   "source": [
    "IRSA Explainer: https://wise2.ipac.caltech.edu/docs/release/allwise/expsup/sec2_1a.html\n",
    "\n",
    "Stars within 100 pc of the Sun:  https://www.aanda.org/articles/aa/full_html/2021/05/aa39498-20/aa39498-20.html\n",
    "\n",
    "LAMOST data cleaning procedure: https://iopscience.iop.org/article/10.3847/1538-4357/acaf5a/pdf\n",
    "        "
   ]
  },
  {
   "cell_type": "code",
   "execution_count": 1,
   "metadata": {},
   "outputs": [],
   "source": [
    "from astropy.io import fits\n",
    "from astropy.table import Table, join, unique\n",
    "\n",
    "from astropy.coordinates import SkyCoord\n",
    "import astropy.units as u\n",
    "\n",
    "from astropy.utils.metadata import merge\n",
    "\n",
    "import pandas as pd\n",
    "import numpy as np\n",
    "from tqdm import tqdm\n",
    "import matplotlib.pyplot as plt\n",
    "\n",
    "\n",
    "from multiprocessing import set_start_method\n",
    "\n",
    "plt.style.use('stefan.mplstyle')"
   ]
  },
  {
   "cell_type": "code",
   "execution_count": 2,
   "metadata": {},
   "outputs": [],
   "source": [
    "catalog = Table.read('data/all_wds.csv')\n",
    "references = Table.read('data/table_irsa_catalog_search_results.csv')\n",
    "\n",
    "# Stars from Gaia selected to be within 100pc of the Sun\n",
    "# source: https://www.aanda.org/articles/aa/full_html/2021/05/aa39498-20/aa39498-20.html\n",
    "allstars = Table.read('data/allstars.dat.gz', format='ipac')"
   ]
  },
  {
   "cell_type": "code",
   "execution_count": 3,
   "metadata": {},
   "outputs": [
    {
     "data": {
      "image/png": "[encoded data removed]",
      "text/plain": [
       "<Figure size 720x216 with 1 Axes>"
      ]
     },
     "metadata": {
      "needs_background": "light"
     },
     "output_type": "display_data"
    }
   ],
   "source": [
    "plt.figure(figsize = (10,3))\n",
    "plt.hist(references['dist_x'], bins = 30)\n",
    "plt.axvline(x = 2, c = 'k')\n",
    "plt.xlabel('Distance [arcsec]')\n",
    "plt.ylabel('Count')\n",
    "\n",
    "references = references[references['dist_x'] < 2]"
   ]
  },
  {
   "cell_type": "code",
   "execution_count": 4,
   "metadata": {},
   "outputs": [],
   "source": [
    "catalog = join(left=catalog, right=references, keys_left='CATALOGID', keys_right='catalogid_01', join_type=\"inner\")"
   ]
  },
  {
   "cell_type": "code",
   "execution_count": 5,
   "metadata": {},
   "outputs": [
    {
     "data": {
      "text/plain": [
       "(array([ 64., 108.,  90.,  78.,  87.,  62.,  50.,  24.,  25.,  16.,  15.,\n",
       "          6.,   9.,   8.,   5.,   5.,   3.,   8.,   2.,   2.,   1.,   1.,\n",
       "          2.,   0.,   0.,   0.,   0.,   0.,   0.,   0.,   0.,   0.,   0.,\n",
       "          0.,   1.,   1.,   0.,   0.,   0.,   0.,   0.,   0.,   0.,   0.,\n",
       "          0.,   0.,   0.,   0.,   1.]),\n",
       " array([ 0.56857198,  2.2074055 ,  3.84623901,  5.48507253,  7.12390604,\n",
       "         8.76273956, 10.40157307, 12.04040658, 13.6792401 , 15.31807361,\n",
       "        16.95690713, 18.59574064, 20.23457416, 21.87340767, 23.51224118,\n",
       "        25.1510747 , 26.78990821, 28.42874173, 30.06757524, 31.70640876,\n",
       "        33.34524227, 34.98407578, 36.6229093 , 38.26174281, 39.90057633,\n",
       "        41.53940984, 43.17824336, 44.81707687, 46.45591038, 48.0947439 ,\n",
       "        49.73357741, 51.37241093, 53.01124444, 54.65007796, 56.28891147,\n",
       "        57.92774498, 59.5665785 , 61.20541201, 62.84424553, 64.48307904,\n",
       "        66.12191256, 67.76074607, 69.39957958, 71.0384131 , 72.67724661,\n",
       "        74.31608013, 75.95491364, 77.59374716, 79.23258067, 80.87141418]),\n",
       " <BarContainer object of 49 artists>)"
      ]
     },
     "execution_count": 5,
     "metadata": {},
     "output_type": "execute_result"
    },
    {
     "data": {
      "image/png": "[encoded data removed]",
      "text/plain": [
       "<Figure size 720x216 with 1 Axes>"
      ]
     },
     "metadata": {
      "needs_background": "light"
     },
     "output_type": "display_data"
    }
   ],
   "source": [
    "plt.figure(figsize=(10,3))\n",
    "plt.hist(catalog['PARALLAX'])"
   ]
  },
  {
   "cell_type": "code",
   "execution_count": 6,
   "metadata": {},
   "outputs": [
    {
     "name": "stderr",
     "output_type": "stream",
     "text": [
      "Optimizing map for querying (this might take a couple of seconds)...\n"
     ]
    }
   ],
   "source": [
    "from __future__ import print_function\n",
    "from astropy.coordinates import SkyCoord\n",
    "import astropy.units as u\n",
    "from dustmaps.edenhofer2023 import Edenhofer2023Query\n",
    "\n",
    "import pyphot\n",
    "import extinction\n",
    "\n",
    "catalog['r_med_geo'] = 100 / catalog['PARALLAX']\n",
    "\n",
    "# Coordinates using inverted parallax distances\n",
    "coords = [SkyCoord(frame=\"icrs\", ra=catalog['RA'][i]*u.deg, dec=catalog['DEC'][i]*u.deg, distance = catalog['r_med_geo'][i] * u.pc) for i in range(len(catalog))]\n",
    "catalog['wd_coords'] = coords\n",
    "\n",
    "\n",
    "# Query Edenhofer2023 to get E(B-V) in arbitrary units\n",
    "bsq = Edenhofer2023Query()\n",
    "bsq_res = bsq.query(catalog['wd_coords']).copy()\n",
    "bsq_res[np.isnan(bsq_res)] = 0\n",
    "\n",
    "# Convert to actual units\n",
    "Ebv = bsq_res*0.901*0.98\n",
    "e_Ebv = Ebv*0.2\n",
    "\n",
    "catalog['E(B-V)'] = Ebv\n",
    "catalog['e_E(B-V)'] = e_Ebv\n",
    "\n",
    "\n",
    "# Parameters for correcting using Gaia\n",
    "Rv = 3.1\n",
    "catalog['A_v0'] = catalog['E(B-V)']*Rv\n",
    "\n",
    "# Fetch Gaia photometric band wavelengths and store in `gaia_phot_wavl`\n",
    "lib = pyphot.get_library()\n",
    "gaia_phot = [lib['Gaia_G'], lib['Gaia_BP'], lib['Gaia_RP']]\n",
    "gaia_phot_wavl = np.array([x.lpivot.to('angstrom').value for x in gaia_phot])\n",
    "\n",
    "\n",
    "# For each point, find extinction using the parameters we defined above\n",
    "ext_all = []\n",
    "for av0 in catalog['A_v0']:\n",
    "    ext_all.append( extinction.fitzpatrick99(gaia_phot_wavl, av0, Rv) )\n",
    "ext_all = np.array(ext_all)\n",
    "    \n",
    "# Save the extinction in each band\n",
    "catalog['BP_ext'] = ext_all.T[0]\n",
    "catalog['RP_ext'] = ext_all.T[1]\n",
    "\n",
    "# Subtract out the extinction to find de-reddened magnitude\n",
    "catalog['GAIA_G'] = catalog['GAIA_G'] - catalog['BP_ext']\n",
    "catalog['GAIA_BP'] = catalog['GAIA_BP'] - catalog['BP_ext']\n",
    "catalog['GAIA_RP'] = catalog['GAIA_RP'] - catalog['RP_ext']"
   ]
  },
  {
   "cell_type": "code",
   "execution_count": 7,
   "metadata": {},
   "outputs": [
    {
     "name": "stderr",
     "output_type": "stream",
     "text": [
      "<ipython-input-7-79cedd1f95bb>:1: RuntimeWarning: divide by zero encountered in log10\n",
      "  catalog['abs_g'] = catalog['GAIA_G'] + 5 * np.log10(catalog['PARALLAX'] / 100)\n",
      "<ipython-input-7-79cedd1f95bb>:2: RuntimeWarning: divide by zero encountered in log10\n",
      "  catalog['abs_bp'] = catalog['GAIA_BP'] + 5 * np.log10(catalog['PARALLAX'] / 100)\n",
      "<ipython-input-7-79cedd1f95bb>:3: RuntimeWarning: divide by zero encountered in log10\n",
      "  catalog['abs_rp'] = catalog['GAIA_RP'] + 5 * np.log10(catalog['PARALLAX'] / 100)\n",
      "<ipython-input-7-79cedd1f95bb>:7: RuntimeWarning: divide by zero encountered in log10\n",
      "  catalog['abs_w1'] = catalog['w1mpro'] + 5 * np.log10(catalog['PARALLAX'] / 100)\n",
      "<ipython-input-7-79cedd1f95bb>:8: RuntimeWarning: divide by zero encountered in log10\n",
      "  catalog['abs_w2'] = catalog['w2mpro'] + 5 * np.log10(catalog['PARALLAX'] / 100)\n",
      "<ipython-input-7-79cedd1f95bb>:9: RuntimeWarning: divide by zero encountered in log10\n",
      "  catalog['abs_w3'] = catalog['w3mpro'] + 5 * np.log10(catalog['PARALLAX'] / 100)\n"
     ]
    }
   ],
   "source": [
    "catalog['abs_g'] = catalog['GAIA_G'] + 5 * np.log10(catalog['PARALLAX'] / 100)\n",
    "catalog['abs_bp'] = catalog['GAIA_BP'] + 5 * np.log10(catalog['PARALLAX'] / 100)\n",
    "catalog['abs_rp'] = catalog['GAIA_RP'] + 5 * np.log10(catalog['PARALLAX'] / 100)\n",
    "\n",
    "catalog['bp_rp'] = catalog['abs_bp'] - catalog['abs_rp']\n",
    "\n",
    "catalog['abs_w1'] = catalog['w1mpro'] + 5 * np.log10(catalog['PARALLAX'] / 100)\n",
    "catalog['abs_w2'] = catalog['w2mpro'] + 5 * np.log10(catalog['PARALLAX'] / 100)\n",
    "catalog['abs_w3'] = catalog['w3mpro'] + 5 * np.log10(catalog['PARALLAX'] / 100)\n",
    "#catalog['abs_w4'] = catalog['w4mpro'] + 5 * np.log10(catalog['PARALLAX'] / 100)"
   ]
  },
  {
   "cell_type": "code",
   "execution_count": null,
   "metadata": {},
   "outputs": [
    {
     "data": {
      "text/plain": [
       "Text(0, 0.5, 'W1 - W2')"
      ]
     },
     "execution_count": 8,
     "metadata": {},
     "output_type": "execute_result"
    }
   ],
   "source": [
    "plt.figure(figsize=(18,7))\n",
    "\n",
    "plt.subplot(1,2,1)\n",
    "\n",
    "plt.scatter(allstars['abs_bp'] - allstars['abs_rp'], allstars['abs_g'], c = 'k', alpha = 0.01)\n",
    "plt.scatter(catalog['abs_bp'] - catalog['abs_rp'], catalog['abs_g'],  c = 'red', alpha = 0.6, marker = 'x', s = 10, label = 'SDSS-V White Dwarfs')\n",
    "\n",
    "domain = np.linspace(-0.5, 3)\n",
    "plt.plot(domain, 5*domain+5)\n",
    "\n",
    "plt.xlabel(r'$G_{BP} - G_{RP}$')\n",
    "plt.ylabel('G')\n",
    "plt.gca().invert_yaxis()\n",
    "\n",
    "plt.subplot(1,2,2)\n",
    "\n",
    "plt.scatter(allstars['abs_bp'] - allstars['abs_rp'], allstars['abs_w1'] - allstars['abs_w2'], c = 'k', alpha = 0.01)\n",
    "plt.scatter(catalog['abs_bp'] - catalog['abs_rp'], catalog['abs_w1'] - catalog['abs_w2'], c = 'red', alpha = 0.6, marker = 'x', s = 10, label = 'SDSS-V White Dwarfs')\n",
    "\n",
    "plt.legend(framealpha = 0)\n",
    "\n",
    "plt.ylim(-2,2)\n",
    "\n",
    "plt.xlabel(r'$G_{BP} - G_{RP}$')\n",
    "plt.ylabel('W1 - W2')"
   ]
  },
  {
   "cell_type": "code",
   "execution_count": null,
   "metadata": {},
   "outputs": [],
   "source": []
  },
  {
   "cell_type": "code",
   "execution_count": null,
   "metadata": {},
   "outputs": [],
   "source": []
  },
  {
   "cell_type": "code",
   "execution_count": null,
   "metadata": {},
   "outputs": [],
   "source": [
    "import sys\n",
    "sys.path.append('../corv/src')\n",
    "\n",
    "import pyphot\n",
    "from pyphot import unit\n",
    "import corv\n",
    "import lmfit\n",
    "\n",
    "base_wavl, tremblay, table = corv.utils.build_montreal_da(path = '/home/sarsene1/corv/src/corv/models/montreal_da', flux_unit = 'flam')\n",
    "\n",
    "lib = pyphot.get_library()\n",
    "filters = [lib['Gaia_G'], lib['Gaia_BP'], lib['Gaia_RP']]\n",
    "\n",
    "c = 2.998e10\n",
    "k = 1.38e-16\n",
    "h = 6.626e-27\n",
    "halpha = 6564.61\n",
    "hbeta = 4862.68\n",
    "hgamma = 4341.68\n",
    "hdelta = 4102.89\n",
    "speed_light = 299792458 #m/s\n",
    "mass_sun = 1.9884e30\n",
    "newton_G = 6.674e-11\n",
    "pc_to_m = 3.086775e16\n",
    "radius_sun = 6.957e8\n",
    "\n",
    "def mag_to_flux_spec(mag, filt, e_mag = None):\n",
    "    if e_mag is not None:\n",
    "        return (10**( (mag + filt.Vega_zero_mag) / -2.5 ), np.sqrt((-0.921034 * 10**(-0.4 * (mag + filt.Vega_zero_mag)) * e_mag)**2 ))\n",
    "    else:\n",
    "        return 10**( (mag + filt.Vega_zero_mag) / -2.5 )\n",
    "\n",
    "def template(teff, logg, radius, distance):\n",
    "    fl = tremblay((teff, logg))\n",
    "    \n",
    "    radius = radius * radius_sun # Rsun to meter\n",
    "    distance = distance * pc_to_m # Parsec to meter\n",
    "    \n",
    "    fl = 4*np.pi*(radius / distance)**2 * fl\n",
    "    return fl\n",
    "    \n",
    "\n",
    "def get_model_flux_gaia_spec(params):\n",
    "    teff, logg, radius, distance = params['teff'], params['logg'], params['radius'], params['distance']\n",
    "    \n",
    "    fl = template(teff, logg, radius, distance) \n",
    "            \n",
    "    flux = np.array([filters[i].get_flux(base_wavl * unit['angstrom'], fl * unit['erg/s/cm**2/angstrom'], axis = 1).to('erg/s/cm**2/angstrom').value for i in range(len(filters))])\n",
    "    #mag = np.array([-2.5*np.log10(filters[i].get_flux(base_wavl * unit['AA'], fl * unit['erg/s/cm**2/AA'], axis = 1).value) - filters[i].Vega_zero_mag for i in range(len(filters))])\n",
    "    return flux\n",
    "    \n",
    "\n",
    "def residual_gaia(params, obs_flux = None, e_obs_flux = None):\n",
    "    model_flux = get_model_flux_gaia_spec(params)\n",
    "    chisquare = (model_flux - obs_flux)**2\n",
    "    \n",
    "    #chisquare[np.isnan(chisquare)] = 1e8\n",
    "    return chisquare\n",
    "\n",
    "def get_parameters_gaia(obs_flux, id_ = None, floor_error = 0.02, make_plot = False, vary_logg = False, p0 = [10000, 8, 0.01, 100]):         \n",
    "    params = lmfit.Parameters()\n",
    "\n",
    "    params.add('teff', value = p0[0], min = 4001, max = 35000, vary = True)\n",
    "    params.add('logg', value = p0[1], min=5, max=9, vary=False)\n",
    "    params.add('radius', value = p0[2], min = 0.000001, max = 0.05, vary = True)\n",
    "    params.add('distance', value = p0[3], min = 1, max = 2000, vary = False)\n",
    "            \n",
    "    result = lmfit.minimize(residual_gaia, params, kws = dict(obs_flux = obs_flux), method = 'nedler')\n",
    "            \n",
    "    return result"
   ]
  },
  {
   "cell_type": "code",
   "execution_count": null,
   "metadata": {},
   "outputs": [],
   "source": [
    "teff = []\n",
    "logg = []\n",
    "radius = []\n",
    "\n",
    "for i in tqdm(range(len(catalog))):\n",
    "    obs_flux = [mag_to_flux_spec(catalog['abs_g'][i], filters[0]),\n",
    "                mag_to_flux_spec(catalog['abs_bp'][i], filters[1]), \n",
    "                mag_to_flux_spec(catalog['abs_rp'][i], filters[2])]\n",
    "\n",
    "    temp = get_parameters_gaia(obs_flux, p0 = [10000, 8, 0.01, 100 / catalog['PARALLAX'][i]])\n",
    "    \n",
    "    teff.append(temp.params['teff'].value)\n",
    "    logg.append(temp.params['logg'].value)\n",
    "    radius.append(temp.params['radius'].value)\n",
    "    \n",
    "catalog['fit_teff'] = teff\n",
    "catalog['fit_logg'] = logg\n",
    "catalog['fit_radius'] = radius"
   ]
  },
  {
   "cell_type": "code",
   "execution_count": null,
   "metadata": {},
   "outputs": [],
   "source": [
    "plt.figure(figsize=(18,7))\n",
    "\n",
    "plt.subplot(1,2,1)\n",
    "\n",
    "plt.scatter(catalog['fit_teff'], catalog['Teff_SnowWhite'], c = 'k')\n",
    "\n",
    "plt.xlabel(r'Fitted $T_{eff}$')\n",
    "plt.ylabel(r'SnowWhite $T_{eff}$')\n",
    "\n",
    "plt.subplot(1,2,2)\n",
    "\n",
    "plt.scatter(catalog['fit_logg'], catalog['Logg_SnowWhite'], c = 'k')\n",
    "\n",
    "plt.xlabel(r'Fitted $T_{eff}$')\n",
    "plt.ylabel(r'SnowWhite $T_{eff}$')"
   ]
  },
  {
   "cell_type": "code",
   "execution_count": null,
   "metadata": {},
   "outputs": [],
   "source": [
    "\n",
    "\n",
    "i = 0\n",
    "\n",
    "lib = pyphot.get_library()\n",
    "filt_full = [lib['Gaia_G'], lib['Gaia_BP'], lib['Gaia_RP'], lib['WISE_RSR_W1'], lib['WISE_RSR_W2']]\n",
    "\n",
    "fl = tremblay((catalog['Teff_SnowWhite'][i], catalog['Logg_SnowWhite'][i])) * ( (catalog['fit_radius'][i] * radius_sun) / ((100 / catalog['PARALLAX'][i]) * pc_to_m)) **2\n",
    "print(len(fl))\n",
    "\n",
    "wavl = [filters[i].lpivot.to('angstrom').value for i in range(len(filters))]\n",
    "phot_flux = [filters[i].get_flux(base_wavl * unit['AA'], fl * unit['erg/s/cm**2/AA'], axis = 1).value for i in range(len(filters))]\n",
    "phot_mag = np.array([-2.5*np.log10(filters[i].get_flux(base_wavl * unit['AA'], fl * unit['erg/s/cm**2/AA'], axis = 1).value) \\\n",
    "                     - filters[i].Vega_zero_mag for i in range(len(filters))])\n",
    "\n",
    "obs_flux = np.array([mag_to_flux_spec(catalog['abs_g'][i], filters[0]),\n",
    "                    mag_to_flux_spec(catalog['abs_bp'][i], filters[1]),\n",
    "                    mag_to_flux_spec(catalog['abs_rp'][i], filters[2]),\n",
    "                    mag_to_flux_spec(catalog['abs_w1'][i], filters[3]),\n",
    "                    mag_to_flux_spec(catalog['abs_w2'][i], filters[4])])\n",
    "\n",
    "\n",
    "plt.figure(figsize = (10,9))\n",
    "\n",
    "plt.plot(base_wavl, fl, c = 'k')\n",
    "plt.scatter(wavl, phot_flux, c = 'r')\n",
    "plt.scatter([filters[j].lpivot.to('angstrom').value for j in range(len(filters))], obs_flux)\n",
    "\n",
    "plt.yscale('log')\n",
    "plt.xlim(2500,50000)\n",
    "#plt.ylim(10**3,10**7)\n",
    "\n",
    "plt.xlabel(r'Wavelength $[\\AA]$')\n",
    "plt.ylabel(r'Flux $[erg/s/cm^2/\\AA]$')\n",
    "\n"
   ]
  },
  {
   "cell_type": "code",
   "execution_count": null,
   "metadata": {},
   "outputs": [],
   "source": [
    "catalog[0:1]"
   ]
  },
  {
   "cell_type": "code",
   "execution_count": null,
   "metadata": {},
   "outputs": [],
   "source": []
  }
 ],
 "metadata": {
  "kernelspec": {
   "display_name": "Python 3",
   "language": "python",
   "name": "python3"
  },
  "language_info": {
   "codemirror_mode": {
    "name": "ipython",
    "version": 3
   },
   "file_extension": ".py",
   "mimetype": "text/x-python",
   "name": "python",
   "nbconvert_exporter": "python",
   "pygments_lexer": "ipython3",
   "version": "3.8.3"
  }
 },
 "nbformat": 4,
 "nbformat_minor": 5
}
